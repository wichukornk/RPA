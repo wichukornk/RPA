{
 "cells": [
  {
   "cell_type": "code",
   "execution_count": 14,
   "metadata": {},
   "outputs": [],
   "source": [
    "from selenium import webdriver\n",
    "from selenium.webdriver.common.keys import Keys\n",
    "from selenium.webdriver.support.ui import WebDriverWait       \n",
    "from selenium.webdriver.common.by import By       \n",
    "from selenium.webdriver.support import expected_conditions as EC"
   ]
  },
  {
   "cell_type": "code",
   "execution_count": 25,
   "metadata": {},
   "outputs": [],
   "source": [
    "import pandas as pd"
   ]
  },
  {
   "cell_type": "code",
   "execution_count": 26,
   "metadata": {},
   "outputs": [],
   "source": [
    "df=pd.read_excel(\"testData.xlsx\")"
   ]
  },
  {
   "cell_type": "code",
   "execution_count": 27,
   "metadata": {},
   "outputs": [],
   "source": [
    "tempData=df.iloc[0,:].to_list()"
   ]
  },
  {
   "cell_type": "code",
   "execution_count": 9,
   "metadata": {},
   "outputs": [],
   "source": [
    "driver = webdriver.Firefox()\n",
    "url=\"http://boiler.besten.co.th/backend/web/index.php?r=site%2Flogin\"\n",
    "driver.get(url)\n",
    "#driver.implicitly_wait(10)"
   ]
  },
  {
   "cell_type": "code",
   "execution_count": 4,
   "metadata": {},
   "outputs": [],
   "source": [
    "def login(driver,u,p):\n",
    "    driver.find_element_by_xpath(\"//input[@id='uname']\").send_keys(u)\n",
    "    driver.find_element_by_xpath(\"//input[@id='pwd']\").send_keys(p)\n",
    "    driver.find_element_by_xpath(\"//button[@name='login-button']\").click()\n",
    "    "
   ]
  },
  {
   "cell_type": "code",
   "execution_count": 5,
   "metadata": {},
   "outputs": [],
   "source": [
    "def findFactory(driver,k):\n",
    "    driver.find_element_by_xpath(\"//input[@name='MaincompSearch[mcTsic]']\").send_keys(Keys.CONTROL + \"a\")\n",
    "    driver.find_element_by_xpath(\"//input[@name='MaincompSearch[mcTsic]']\").send_keys(Keys.DELETE)\n",
    "    driver.find_element_by_xpath(\"//input[@name='MaincompSearch[mcTsic]']\").send_keys(k)\n",
    "    driver.find_element_by_xpath(\"//input[@name='MaincompSearch[mcTsic]']\").send_keys(Keys.ENTER)"
   ]
  },
  {
   "cell_type": "code",
   "execution_count": 6,
   "metadata": {},
   "outputs": [],
   "source": [
    "def accessFactory(driver):\n",
    "    driver.find_element_by_xpath(\"//span[@class='glyphicon glyphicon-eye-open']\").click()"
   ]
  },
  {
   "cell_type": "code",
   "execution_count": 7,
   "metadata": {},
   "outputs": [],
   "source": [
    "def putData(driver,a,b,c,d):\n",
    "    xpath=\"//\"+a+\"[@\"+b+\"='\"+c+\"']\"\n",
    "    driver.find_element_by_xpath(xpath).send_keys(Keys.CONTROL + \"a\")\n",
    "    driver.find_element_by_xpath(xpath).send_keys(Keys.DELETE)\n",
    "    driver.find_element_by_xpath(xpath).send_keys(d)"
   ]
  },
  {
   "cell_type": "code",
   "execution_count": 18,
   "metadata": {},
   "outputs": [],
   "source": [
    "def fillData(driver,Data):\n",
    "    driver.find_element_by_xpath(\"//a[@href='#w5-tab1']\").click()\n",
    "    driver.find_element_by_xpath(\"//span[@class='glyphicon glyphicon-eye-open']\").click()\n",
    "    #driver.find_element_by_link_text(\"แก้ไข\").click()\n",
    "    WebDriverWait(driver, 20).until(EC.invisibility_of_element((By.XPATH, \"//div[@class='se-pre-con']\")))\n",
    "    WebDriverWait(driver, 20).until(EC.element_to_be_clickable((By.LINK_TEXT, \"แก้ไข\"))).click()\n",
    "    putData(driver,\"input\",\"id\",\"mainequipment-mename\",Data[0]) #Name\n",
    "    putData(driver,\"input\",\"id\",\"mainequipment-mebrand\",Data[1]) #Brand\n",
    "    putData(driver,\"input\",\"id\",\"mainequipment-memodel\",Data[2]) #Model\n",
    "    putData(driver,\"input\",\"id\",\"mainequipment-mesize\",Data[3]) #Capacity\n",
    "    putData(driver,\"input\",\"id\",\"mainequipment-mefuelname\",Data[4]) #Fuel\n",
    "    putData(driver,\"input\",\"id\",\"mainequipment-meage\",Data[5]) #Lifetime\n",
    "    putData(driver,\"input\",\"id\",\"mainequipment-mefuelprice\",Data[6]) #FuelPrice\n",
    "    putData(driver,\"input\",\"id\",\"mainequipment-mefueluse\",Data[7]) #FuelConsumption\n",
    "    putData(driver,\"input\",\"id\",\"mainequipment-mebargmax\",Data[8]) #BarMax\n",
    "    putData(driver,\"input\",\"id\",\"mainequipment-mebarg\",Data[9]) #BarOperate"
   ]
  },
  {
   "cell_type": "code",
   "execution_count": 21,
   "metadata": {},
   "outputs": [],
   "source": [
    "login(driver,\"admin\",\"123456\")"
   ]
  },
  {
   "cell_type": "code",
   "execution_count": 22,
   "metadata": {},
   "outputs": [],
   "source": [
    "findFactory(driver,tempData[0])"
   ]
  },
  {
   "cell_type": "code",
   "execution_count": 23,
   "metadata": {},
   "outputs": [],
   "source": [
    "accessFactory(driver)"
   ]
  },
  {
   "cell_type": "code",
   "execution_count": 24,
   "metadata": {},
   "outputs": [],
   "source": [
    "fillData(driver,tempData[1:])"
   ]
  }
 ],
 "metadata": {
  "kernelspec": {
   "display_name": "Python 3",
   "language": "python",
   "name": "python3"
  },
  "language_info": {
   "codemirror_mode": {
    "name": "ipython",
    "version": 3
   },
   "file_extension": ".py",
   "mimetype": "text/x-python",
   "name": "python",
   "nbconvert_exporter": "python",
   "pygments_lexer": "ipython3",
   "version": "3.8.5"
  }
 },
 "nbformat": 4,
 "nbformat_minor": 4
}
