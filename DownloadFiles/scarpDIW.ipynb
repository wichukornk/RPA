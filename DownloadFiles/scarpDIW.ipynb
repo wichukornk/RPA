{
 "cells": [
  {
   "cell_type": "code",
   "execution_count": 1,
   "id": "dramatic-workshop",
   "metadata": {},
   "outputs": [],
   "source": [
    "from bs4 import BeautifulSoup\n",
    "import pandas as pd\n",
    "import time\n",
    "from selenium import webdriver\n",
    "from selenium.webdriver.common.keys import Keys"
   ]
  },
  {
   "cell_type": "markdown",
   "id": "continuous-boulder",
   "metadata": {},
   "source": [
    "# Test area #"
   ]
  },
  {
   "cell_type": "code",
   "execution_count": 4,
   "id": "resistant-health",
   "metadata": {},
   "outputs": [
    {
     "data": {
      "text/html": [
       "<div>\n",
       "<style scoped>\n",
       "    .dataframe tbody tr th:only-of-type {\n",
       "        vertical-align: middle;\n",
       "    }\n",
       "\n",
       "    .dataframe tbody tr th {\n",
       "        vertical-align: top;\n",
       "    }\n",
       "\n",
       "    .dataframe thead th {\n",
       "        text-align: right;\n",
       "    }\n",
       "</style>\n",
       "<table border=\"1\" class=\"dataframe\">\n",
       "  <thead>\n",
       "    <tr style=\"text-align: right;\">\n",
       "      <th></th>\n",
       "      <th>ทะเบียนโรงงาน</th>\n",
       "      <th>ชื่อโรงงาน</th>\n",
       "      <th>newCode</th>\n",
       "      <th>facType</th>\n",
       "      <th>ISIC</th>\n",
       "      <th>TSIC</th>\n",
       "      <th>desc</th>\n",
       "    </tr>\n",
       "  </thead>\n",
       "  <tbody>\n",
       "    <tr>\n",
       "      <th>0</th>\n",
       "      <td>ศ3-20(1)-1/34ชม</td>\n",
       "      <td>บริษัท เชียงใหม่ เบเวอเรช จำกัด</td>\n",
       "      <td></td>\n",
       "      <td></td>\n",
       "      <td></td>\n",
       "      <td></td>\n",
       "      <td></td>\n",
       "    </tr>\n",
       "    <tr>\n",
       "      <th>1</th>\n",
       "      <td>ศ3-8(1)-4/36ชม</td>\n",
       "      <td>บริษัท สหปราจีนบุรีอุตสาหกรรมอาหาร จำกัด</td>\n",
       "      <td></td>\n",
       "      <td></td>\n",
       "      <td></td>\n",
       "      <td></td>\n",
       "      <td></td>\n",
       "    </tr>\n",
       "    <tr>\n",
       "      <th>2</th>\n",
       "      <td>ศ3-8(1)-2/36ชม</td>\n",
       "      <td>บริษัท ช้างอวอดส์ (1959) จำกัด</td>\n",
       "      <td></td>\n",
       "      <td></td>\n",
       "      <td></td>\n",
       "      <td></td>\n",
       "      <td></td>\n",
       "    </tr>\n",
       "    <tr>\n",
       "      <th>3</th>\n",
       "      <td>ศ3-8(1)-1/34ชม</td>\n",
       "      <td>บริษัท สันติภาพ (ฮั่วเพ้ง 1958) จำกัด</td>\n",
       "      <td></td>\n",
       "      <td></td>\n",
       "      <td></td>\n",
       "      <td></td>\n",
       "      <td></td>\n",
       "    </tr>\n",
       "    <tr>\n",
       "      <th>4</th>\n",
       "      <td>3-58(1)-119/50ชม</td>\n",
       "      <td>บริษัท ไดมอนด์ วัสดุ จำกัด</td>\n",
       "      <td></td>\n",
       "      <td></td>\n",
       "      <td></td>\n",
       "      <td></td>\n",
       "      <td></td>\n",
       "    </tr>\n",
       "    <tr>\n",
       "      <th>5</th>\n",
       "      <td>ศ3-8(2)-2/33ชร</td>\n",
       "      <td>บริษัท แพนสตาร์ จำกัด</td>\n",
       "      <td></td>\n",
       "      <td></td>\n",
       "      <td></td>\n",
       "      <td></td>\n",
       "      <td></td>\n",
       "    </tr>\n",
       "    <tr>\n",
       "      <th>6</th>\n",
       "      <td>จ3-1-3/19ชร</td>\n",
       "      <td>สถานีบ่มใบยาสูบปงของ</td>\n",
       "      <td></td>\n",
       "      <td></td>\n",
       "      <td></td>\n",
       "      <td></td>\n",
       "      <td></td>\n",
       "    </tr>\n",
       "    <tr>\n",
       "      <th>7</th>\n",
       "      <td>ศ3-15(1)-2/38พบ</td>\n",
       "      <td>บริษัท โกรเบสท์คอร์โพเรชั่น จำกัด</td>\n",
       "      <td></td>\n",
       "      <td></td>\n",
       "      <td></td>\n",
       "      <td></td>\n",
       "      <td></td>\n",
       "    </tr>\n",
       "    <tr>\n",
       "      <th>8</th>\n",
       "      <td>3-44-1/40พบ</td>\n",
       "      <td>บริษัท กังวาลโพลีเอสเตอร์ จำกัด</td>\n",
       "      <td></td>\n",
       "      <td></td>\n",
       "      <td></td>\n",
       "      <td></td>\n",
       "      <td></td>\n",
       "    </tr>\n",
       "    <tr>\n",
       "      <th>9</th>\n",
       "      <td>ศ3-15(1)-3/38พบ</td>\n",
       "      <td>บริษัท ลีพัฒนาผลิตภัณฑ์ จำกัด (มหาชน)</td>\n",
       "      <td></td>\n",
       "      <td></td>\n",
       "      <td></td>\n",
       "      <td></td>\n",
       "      <td></td>\n",
       "    </tr>\n",
       "  </tbody>\n",
       "</table>\n",
       "</div>"
      ],
      "text/plain": [
       "      ทะเบียนโรงงาน                                 ชื่อโรงงาน  newCode  \\\n",
       "0    ศ3-20(1)-1/34ชม            บริษัท เชียงใหม่ เบเวอเรช จำกัด           \n",
       "1    ศ3-8(1)-4/36ชม   บริษัท สหปราจีนบุรีอุตสาหกรรมอาหาร จำกัด            \n",
       "2     ศ3-8(1)-2/36ชม            บริษัท ช้างอวอดส์ (1959) จำกัด            \n",
       "3    ศ3-8(1)-1/34ชม      บริษัท สันติภาพ (ฮั่วเพ้ง 1958) จำกัด            \n",
       "4  3-58(1)-119/50ชม                 บริษัท ไดมอนด์ วัสดุ จำกัด            \n",
       "5    ศ3-8(2)-2/33ชร                      บริษัท แพนสตาร์ จำกัด            \n",
       "6       จ3-1-3/19ชร                        สถานีบ่มใบยาสูบปงของ           \n",
       "7   ศ3-15(1)-2/38พบ          บริษัท โกรเบสท์คอร์โพเรชั่น จำกัด            \n",
       "8       3-44-1/40พบ            บริษัท กังวาลโพลีเอสเตอร์ จำกัด            \n",
       "9   ศ3-15(1)-3/38พบ      บริษัท ลีพัฒนาผลิตภัณฑ์ จำกัด (มหาชน)            \n",
       "\n",
       "  facType ISIC TSIC desc  \n",
       "0                         \n",
       "1                         \n",
       "2                         \n",
       "3                         \n",
       "4                         \n",
       "5                         \n",
       "6                         \n",
       "7                         \n",
       "8                         \n",
       "9                         "
      ]
     },
     "execution_count": 4,
     "metadata": {},
     "output_type": "execute_result"
    }
   ],
   "source": [
    "df=pd.read_excel(\"facList.xlsx\")\n",
    "df=df.loc[:,['ทะเบียนโรงงาน ','ชื่อโรงงาน ']]\n",
    "df['newCode']=\"\"\n",
    "df['facType']=\"\"\n",
    "df['ISIC']=\"\"\n",
    "df['TSIC']=\"\"\n",
    "df['desc']=\"\"\n",
    "df.head(10)"
   ]
  },
  {
   "cell_type": "code",
   "execution_count": 3,
   "id": "crude-russian",
   "metadata": {},
   "outputs": [],
   "source": [
    "# Open Chrome\n",
    "driver = webdriver.Chrome('chromedriver.exe')\n",
    "\n",
    "# Open URL\n",
    "driver.get('https://www.diw.go.th/hawk/content.php?mode=data1search')"
   ]
  },
  {
   "cell_type": "code",
   "execution_count": 5,
   "id": "primary-probe",
   "metadata": {},
   "outputs": [],
   "source": [
    "facName=\"สถานีบ่มใบยาสูบปงของ\"\n",
    "facCode=\"จ3-1-3/19ชร\""
   ]
  },
  {
   "cell_type": "code",
   "execution_count": 6,
   "id": "restricted-chamber",
   "metadata": {},
   "outputs": [],
   "source": [
    "driver.find_element_by_name('code').clear()\n",
    "driver.find_element_by_name('code').send_keys(facCode)"
   ]
  },
  {
   "cell_type": "code",
   "execution_count": 7,
   "id": "removed-routine",
   "metadata": {},
   "outputs": [],
   "source": [
    "driver.find_element_by_name('Name').clear()\n",
    "driver.find_element_by_name('Name').send_keys(facName)"
   ]
  },
  {
   "cell_type": "code",
   "execution_count": 8,
   "id": "hollywood-crime",
   "metadata": {},
   "outputs": [],
   "source": [
    "driver.find_element_by_name('Submit').click()"
   ]
  },
  {
   "cell_type": "code",
   "execution_count": 9,
   "id": "north-richmond",
   "metadata": {},
   "outputs": [],
   "source": [
    "window_after = driver.window_handles[1]\n",
    "#switch on to new child window\n",
    "driver.switch_to.window(window_after)"
   ]
  },
  {
   "cell_type": "code",
   "execution_count": 10,
   "id": "atomic-veteran",
   "metadata": {},
   "outputs": [],
   "source": [
    "soup = BeautifulSoup(driver.page_source,'html')\n",
    "tables = soup.find_all('table')"
   ]
  },
  {
   "cell_type": "code",
   "execution_count": 11,
   "id": "vulnerable-mileage",
   "metadata": {},
   "outputs": [],
   "source": [
    "#print(tables)"
   ]
  },
  {
   "cell_type": "code",
   "execution_count": 12,
   "id": "corrected-scratch",
   "metadata": {},
   "outputs": [],
   "source": [
    "table=tables[0]"
   ]
  },
  {
   "cell_type": "code",
   "execution_count": 13,
   "id": "criminal-berlin",
   "metadata": {},
   "outputs": [
    {
     "name": "stdout",
     "output_type": "stream",
     "text": [
      "สถานีบ่มใบยาสูบปงของ20570000325199 [จ3-1-3/19ชร]ประเภทโรงงาน 1ISIC 1200 TSIC 12001\n",
      "*-----------------------------------------------*\n",
      "323 ม.5ถ.- ต.บ้านแซวอ.เชียงแสน จ.เชียงราย   57150\n",
      "*-----------------------------------------------*\n",
      "บริษัท เทพวงศ์ จำกัด436ถ.เชียงใหม่-ลำปาง ต.หนองป่าครั่งอ.เมืองเชียงใหม่ จ.เชียงใหม่   50000\n",
      "*-----------------------------------------------*\n",
      "บ่มใบยาสูบ จำนวน 50 เตาเครื่องจักร  799.34 HPเงินทุน 87,500,000 บาทคนงาน 30 คน\n",
      "*-----------------------------------------------*\n"
     ]
    }
   ],
   "source": [
    "for tr in soup.find_all('tr')[1:2]:\n",
    "    tds = tr.find_all('td')\n",
    "    for i in tds:\n",
    "        print(i.text.replace('\\n','').replace('\\r','').replace('\\t','').strip())\n",
    "        print(\"*-----------------------------------------------*\")"
   ]
  },
  {
   "cell_type": "code",
   "execution_count": 14,
   "id": "vocational-cabinet",
   "metadata": {},
   "outputs": [],
   "source": [
    "tr=soup.find_all('tr')[1]\n",
    "td1=tr.find_all('td')[0]"
   ]
  },
  {
   "cell_type": "code",
   "execution_count": 15,
   "id": "going-annual",
   "metadata": {},
   "outputs": [],
   "source": [
    "td1_text=td1.text.replace('\\n','').replace('\\r','').replace('\\t','').strip()"
   ]
  },
  {
   "cell_type": "code",
   "execution_count": 16,
   "id": "tutorial-mitchell",
   "metadata": {},
   "outputs": [],
   "source": [
    "facCodeStart=td1_text.find(facName)+len(facName)"
   ]
  },
  {
   "cell_type": "code",
   "execution_count": 17,
   "id": "written-adjustment",
   "metadata": {},
   "outputs": [],
   "source": [
    "facCode=td1_text[facCodeStart:facCodeStart+14]"
   ]
  },
  {
   "cell_type": "code",
   "execution_count": 18,
   "id": "fifty-pollution",
   "metadata": {},
   "outputs": [
    {
     "name": "stdout",
     "output_type": "stream",
     "text": [
      "20570000325199\n"
     ]
    }
   ],
   "source": [
    "print(facCode)"
   ]
  },
  {
   "cell_type": "code",
   "execution_count": 19,
   "id": "exclusive-blocking",
   "metadata": {},
   "outputs": [
    {
     "name": "stdout",
     "output_type": "stream",
     "text": [
      "บ่มใบยาสูบ จำนวน 50 เตาเครื่องจักร  799.34 HPเงินทุน 87,500,000 บาทคนงาน 30 คน\n",
      "บ่มใบยาสูบ จำนวน 50 เตา\n"
     ]
    }
   ],
   "source": [
    "tr=soup.find_all('tr')[1]\n",
    "td2=tr.find_all('td')[3]\n",
    "td2_text=td2.text.replace('\\n','').replace('\\r','').replace('\\t','').strip()\n",
    "print(td2_text)\n",
    "print(td2_text[0:td2_text.find(\"เครื่องจักร\")])"
   ]
  },
  {
   "cell_type": "code",
   "execution_count": 21,
   "id": "elect-scottish",
   "metadata": {},
   "outputs": [
    {
     "name": "stdout",
     "output_type": "stream",
     "text": [
      "323 ม.5ถ.- ต.บ้านแซวอ.เชียงแสน จ.เชียงราย   5715\n"
     ]
    }
   ],
   "source": [
    "tr=soup.find_all('tr')[1]\n",
    "td3=tr.find_all('td')[1]\n",
    "td3_text=td3.text.replace('\\n','').replace('\\r','').replace('\\t','').strip()\n",
    "\n",
    "print(td3_text[0:td3_text.find(\"โทร.\")])\n",
    "if \"โทร.\" in td3_text:\n",
    "    print(td3_text[td3_text.find(\"โทร.\")+4:].strip())"
   ]
  },
  {
   "cell_type": "code",
   "execution_count": 65,
   "id": "initial-launch",
   "metadata": {},
   "outputs": [],
   "source": [
    "window_before = driver.window_handles[0]\n",
    "#switch on to new child window\n",
    "driver.switch_to.window(window_before)"
   ]
  },
  {
   "cell_type": "markdown",
   "id": "acting-spider",
   "metadata": {},
   "source": [
    "# Deploy area #"
   ]
  },
  {
   "cell_type": "code",
   "execution_count": 64,
   "id": "dental-saskatchewan",
   "metadata": {},
   "outputs": [],
   "source": [
    "df=pd.read_excel(\"facList.xlsx\")\n",
    "df=df.loc[:,['ทะเบียนโรงงาน ','ชื่อโรงงาน ']]\n",
    "df[['newCode','facType','ISIC','TSIC','desc','add','tel']]=\"-\"\n",
    "#df=df.loc[0:6,:]\n",
    "#df"
   ]
  },
  {
   "cell_type": "code",
   "execution_count": 61,
   "id": "funny-substitute",
   "metadata": {},
   "outputs": [],
   "source": [
    "# Open Chrome\n",
    "driver = webdriver.Chrome('chromedriver.exe')\n",
    "\n",
    "# Open URL\n",
    "driver.get('https://www.diw.go.th/hawk/content.php?mode=data1search')"
   ]
  },
  {
   "cell_type": "code",
   "execution_count": 39,
   "id": "written-balloon",
   "metadata": {},
   "outputs": [],
   "source": [
    "def searchFac(facCode,facName,driver):\n",
    "    switchWin(0,driver)\n",
    "    driver.find_element_by_name('code').clear()\n",
    "    driver.find_element_by_name('code').send_keys(facCode)\n",
    "    driver.find_element_by_name('Name').clear()\n",
    "    driver.find_element_by_name('Name').send_keys(facName)\n",
    "    driver.find_element_by_name('Submit').click()\n",
    "    return\n",
    "\n",
    "def switchWin(page,driver):\n",
    "    window_after = driver.window_handles[page]\n",
    "    driver.switch_to.window(window_after)\n",
    "    return\n"
   ]
  },
  {
   "cell_type": "code",
   "execution_count": 40,
   "id": "pressed-centre",
   "metadata": {},
   "outputs": [],
   "source": [
    "def scrapData(tr,facCode,facName):\n",
    "    td1=tr.find_all('td')[0]\n",
    "    td1_text=td1.text.replace('\\n','').replace('\\r','').replace('\\t','').strip()\n",
    "    td2=tr.find_all('td')[3]\n",
    "    td2_text=td2.text.replace('\\n','').replace('\\r','').replace('\\t','').strip()\n",
    "    td3=tr.find_all('td')[1]\n",
    "    td3_text=td3.text.replace('\\n','').replace('\\r','').replace('\\t','').strip()\n",
    "\n",
    "    facCodeStart=td1_text.find(facName)+len(facName)\n",
    "    facTypeStart=td1_text.find(\"ประเภทโรงงาน\")+len(\"ประเภทโรงงาน\")+1\n",
    "    facIsicStart=td1_text.find(\"ISIC\")+len(\"ISIC\")+1\n",
    "    facTsicStart=td1_text.find(\"TSIC\")+len(\"ISIC\")+1\n",
    "\n",
    "    facCode=td1_text[facCodeStart:facCodeStart+14]\n",
    "    facType=td1_text[facTypeStart:td1_text.find(\"ISIC\")].strip()\n",
    "    facIsic=td1_text[facIsicStart:facIsicStart+4]\n",
    "    facTsic=td1_text[facTsicStart:facTsicStart+5]\n",
    "    facDesc=td2_text[0:td2_text.find(\"เครื่องจักร\")]\n",
    "    facAdd=td3_text\n",
    "    facTel=\"\"\n",
    "\n",
    "    if \"โทร.\" in td3_text:\n",
    "        facTel=td3_text[td3_text.find(\"โทร.\")+4:].strip()\n",
    "        facAdd=td3_text[0:td3_text.find(\"โทร.\")]\n",
    "        \n",
    "    return facCode,facType,facIsic,facTsic,facDesc,facAdd,facTel"
   ]
  },
  {
   "cell_type": "markdown",
   "id": "monthly-offset",
   "metadata": {},
   "source": [
    "## Start loop"
   ]
  },
  {
   "cell_type": "code",
   "execution_count": 65,
   "id": "meaningful-catalyst",
   "metadata": {
    "tags": []
   },
   "outputs": [
    {
     "name": "stdout",
     "output_type": "stream",
     "text": [
      "ทะเบียนโรงงานเก่า ศ3-8(2)-2/33ชร  ชื่อโรงงาน บริษัท แพนสตาร์ จำกัด \n",
      "ทะเบียนโรงงานเก่า 3-15(1)-4/51นพ  ชื่อโรงงาน บริษัท โกรเบสท์คอร์โพเรชั่น จำกัด \n",
      "ทะเบียนโรงงานเก่า 3-9(6)-1/32อย  ชื่อโรงงาน บริษัท นครหลวง อินฟินนิทิเกรน จำกัด \n",
      "ทะเบียนโรงงานเก่า ศ3-10(3)-1/34รบ  ชื่อโรงงาน บริษัท นาเชา (ประเทศไทย) จำกัด \n",
      "ทะเบียนโรงงานเก่า ศ3-8(1)-1/35รบ  ชื่อโรงงาน บริษัท ฮาร์โมนี่ อะกริ บิสสิเนส จำกัด \n",
      "ทะเบียนโรงงานเก่า 3-22(2)-30/15สป  ชื่อโรงงาน บริษัท ศิลปเสนีพาณิชย์ จำกัด \n",
      "ทะเบียนโรงงานเก่า 3-22(2)-11/21สป  ชื่อโรงงาน บริษัท ศิลปเสนีพาณิชย์ จำกัด \n",
      "ทะเบียนโรงงานเก่า 3-22(3)-3/34สป  ชื่อโรงงาน บริษัท ไทยฟิลาเมนท์ฟินิชชิ่ง จำกัด \n",
      "ทะเบียนโรงงานเก่า 3-22(3)-3/28สป  ชื่อโรงงาน บริษัท โกลเดิ้นไทย อินดัสทรียส์ จำกัด \n"
     ]
    }
   ],
   "source": [
    "count_err=0\n",
    "for i in df.index:\n",
    "    \n",
    "    facName=df.iloc[i,1].strip()\n",
    "    facCode=df.iloc[i,0].strip()\n",
    "    searchFac(facCode,\"\",driver)\n",
    "    switchWin(1,driver)\n",
    "    \n",
    "    try :\n",
    "        soup = BeautifulSoup(driver.page_source,'html')\n",
    "        tr=soup.find_all('tr')[1]\n",
    "        df.loc[i,'newCode'],df.loc[i,'facType'],df.loc[i,'ISIC'],df.loc[i,'TSIC'],df.loc[i,'desc'],df.loc[i,'add'],df.loc[i,'tel']=scrapData(tr,facCode,facName)\n",
    "    except :\n",
    "        #print(f\"ทะเบียนโรงงานเก่า {df.iloc[i,0]} ชื่อโรงงาน {df.iloc[i,1]}\")\n",
    "        count_err+=1\n",
    "    switchWin(0,driver)\n",
    "print()"
   ]
  },
  {
   "cell_type": "code",
   "execution_count": 66,
   "id": "involved-denmark",
   "metadata": {},
   "outputs": [
    {
     "name": "stdout",
     "output_type": "stream",
     "text": [
      "9\n"
     ]
    }
   ],
   "source": [
    "print(count_err)"
   ]
  },
  {
   "cell_type": "code",
   "execution_count": 67,
   "id": "related-plasma",
   "metadata": {},
   "outputs": [],
   "source": [
    "df.to_csv(\"scrapData.csv\")"
   ]
  }
 ],
 "metadata": {
  "kernelspec": {
   "display_name": "Python 3",
   "language": "python",
   "name": "python3"
  },
  "language_info": {
   "codemirror_mode": {
    "name": "ipython",
    "version": 3
   },
   "file_extension": ".py",
   "mimetype": "text/x-python",
   "name": "python",
   "nbconvert_exporter": "python",
   "pygments_lexer": "ipython3",
   "version": "3.8.7"
  }
 },
 "nbformat": 4,
 "nbformat_minor": 5
}
