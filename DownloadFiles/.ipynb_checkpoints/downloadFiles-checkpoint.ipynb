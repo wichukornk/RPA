{
 "cells": [
  {
   "cell_type": "code",
   "execution_count": 7,
   "id": "hazardous-chocolate",
   "metadata": {},
   "outputs": [],
   "source": [
    "from selenium import webdriver\n",
    "from selenium.webdriver.common.keys import Keys\n",
    "\n",
    "  \n",
    "# Open Chrome\n",
    "driver = webdriver.Chrome('chromedriver.exe')\n",
    "\n",
    "# Open URL\n",
    "driver.get('http://www2.diw.go.th/factory/tumbol.asp')\n",
    "\n",
    "#driver.find_element_by_link_text('ภาคตะวันออกเฉียงเหนือ').click()\n",
    "#driver.find_element_by_link_text('จ.นครราชสีมา').click()\n",
    "driver.find_element_by_xpath(\"//a[@href='javascript:sclk(3,30,1,0)']\")"
   ]
  }
 ],
 "metadata": {
  "kernelspec": {
   "display_name": "Python 3",
   "language": "python",
   "name": "python3"
  },
  "language_info": {
   "codemirror_mode": {
    "name": "ipython",
    "version": 3
   },
   "file_extension": ".py",
   "mimetype": "text/x-python",
   "name": "python",
   "nbconvert_exporter": "python",
   "pygments_lexer": "ipython3",
   "version": "3.8.7"
  }
 },
 "nbformat": 4,
 "nbformat_minor": 5
}
