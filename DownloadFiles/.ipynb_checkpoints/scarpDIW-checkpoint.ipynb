{
 "cells": [
  {
   "cell_type": "code",
   "execution_count": null,
   "id": "associate-background",
   "metadata": {},
   "outputs": [],
   "source": [
    "from bs4 import BeautifulSoup\n",
    "import pandas as pd\n",
    "import time\n",
    "from selenium import webdriver\n",
    "from selenium.webdriver.common.keys import Keys"
   ]
  },
  {
   "cell_type": "markdown",
   "id": "northern-problem",
   "metadata": {},
   "source": [
    "# Test area #"
   ]
  },
  {
   "cell_type": "code",
   "execution_count": 141,
   "id": "further-experiment",
   "metadata": {},
   "outputs": [
    {
     "data": {
      "text/html": [
       "<div>\n",
       "<style scoped>\n",
       "    .dataframe tbody tr th:only-of-type {\n",
       "        vertical-align: middle;\n",
       "    }\n",
       "\n",
       "    .dataframe tbody tr th {\n",
       "        vertical-align: top;\n",
       "    }\n",
       "\n",
       "    .dataframe thead th {\n",
       "        text-align: right;\n",
       "    }\n",
       "</style>\n",
       "<table border=\"1\" class=\"dataframe\">\n",
       "  <thead>\n",
       "    <tr style=\"text-align: right;\">\n",
       "      <th></th>\n",
       "      <th>ทะเบียนโรงงาน</th>\n",
       "      <th>ชื่อโรงงาน</th>\n",
       "    </tr>\n",
       "  </thead>\n",
       "  <tbody>\n",
       "    <tr>\n",
       "      <th>0</th>\n",
       "      <td>ศ3-2(1)-1/30ชม</td>\n",
       "      <td>บริษัท เชียงใหม่ เบเวอเรช จำกัด</td>\n",
       "    </tr>\n",
       "    <tr>\n",
       "      <th>1</th>\n",
       "      <td>ศ3-8(1)-4/36ชม</td>\n",
       "      <td>บริษัท สหปราจีนบุรีอุตสาหกรรมอาหาร จำกัด</td>\n",
       "    </tr>\n",
       "    <tr>\n",
       "      <th>2</th>\n",
       "      <td>ศ3-8(1)-2/36ชม</td>\n",
       "      <td>บริษัท ช้างอวอดส์ (1959) จำกัด</td>\n",
       "    </tr>\n",
       "    <tr>\n",
       "      <th>3</th>\n",
       "      <td>ศ3-8(1)-1/34ชม</td>\n",
       "      <td>บริษัท สันติภาพ (ฮั่วเพ้ง 1958) จำกัด</td>\n",
       "    </tr>\n",
       "    <tr>\n",
       "      <th>4</th>\n",
       "      <td>3-58(1)-119/50ชม</td>\n",
       "      <td>บริษัท ไดมอนด์ วัสดุ จำกัด</td>\n",
       "    </tr>\n",
       "  </tbody>\n",
       "</table>\n",
       "</div>"
      ],
      "text/plain": [
       "      ทะเบียนโรงงาน                                 ชื่อโรงงาน \n",
       "0    ศ3-2(1)-1/30ชม             บริษัท เชียงใหม่ เบเวอเรช จำกัด\n",
       "1    ศ3-8(1)-4/36ชม   บริษัท สหปราจีนบุรีอุตสาหกรรมอาหาร จำกัด \n",
       "2     ศ3-8(1)-2/36ชม            บริษัท ช้างอวอดส์ (1959) จำกัด \n",
       "3    ศ3-8(1)-1/34ชม      บริษัท สันติภาพ (ฮั่วเพ้ง 1958) จำกัด \n",
       "4  3-58(1)-119/50ชม                 บริษัท ไดมอนด์ วัสดุ จำกัด "
      ]
     },
     "execution_count": 141,
     "metadata": {},
     "output_type": "execute_result"
    }
   ],
   "source": [
    "df=pd.read_excel(\"facList.xlsx\")\n",
    "df=df.loc[:,['ทะเบียนโรงงาน ','ชื่อโรงงาน ']]\n",
    "df.head()"
   ]
  },
  {
   "cell_type": "code",
   "execution_count": 142,
   "id": "crude-sessions",
   "metadata": {},
   "outputs": [],
   "source": [
    "# Open Chrome\n",
    "driver = webdriver.Chrome('chromedriver.exe')\n",
    "\n",
    "# Open URL\n",
    "driver.get('https://www.diw.go.th/hawk/content.php?mode=data1search')"
   ]
  },
  {
   "cell_type": "code",
   "execution_count": 160,
   "id": "million-professional",
   "metadata": {},
   "outputs": [],
   "source": [
    "facName=\"บริษัท สันติภาพ (ฮั่วเพ้ง 1958) จำกัด\"\n",
    "facCode=\"ศ3-8(1)-1/34ชม\""
   ]
  },
  {
   "cell_type": "code",
   "execution_count": 161,
   "id": "together-conversation",
   "metadata": {},
   "outputs": [],
   "source": [
    "driver.find_element_by_name('code').clear()\n",
    "driver.find_element_by_name('code').send_keys(facCode)"
   ]
  },
  {
   "cell_type": "code",
   "execution_count": 162,
   "id": "cordless-movie",
   "metadata": {},
   "outputs": [],
   "source": [
    "driver.find_element_by_name('Name').clear()\n",
    "driver.find_element_by_name('Name').send_keys(facName)"
   ]
  },
  {
   "cell_type": "code",
   "execution_count": 163,
   "id": "wired-company",
   "metadata": {},
   "outputs": [],
   "source": [
    "driver.find_element_by_name('Submit').click()"
   ]
  },
  {
   "cell_type": "code",
   "execution_count": 164,
   "id": "congressional-parent",
   "metadata": {},
   "outputs": [],
   "source": [
    "window_after = driver.window_handles[1]\n",
    "#switch on to new child window\n",
    "driver.switch_to.window(window_after)"
   ]
  },
  {
   "cell_type": "code",
   "execution_count": 165,
   "id": "subsequent-checklist",
   "metadata": {},
   "outputs": [],
   "source": [
    "soup = BeautifulSoup(driver.page_source,'html')\n",
    "tables = soup.find_all('table')"
   ]
  },
  {
   "cell_type": "code",
   "execution_count": 166,
   "id": "nearby-tournament",
   "metadata": {},
   "outputs": [],
   "source": [
    "#print(tables)"
   ]
  },
  {
   "cell_type": "code",
   "execution_count": 167,
   "id": "little-morocco",
   "metadata": {},
   "outputs": [],
   "source": [
    "table=tables[0]"
   ]
  },
  {
   "cell_type": "code",
   "execution_count": 168,
   "id": "french-hydrogen",
   "metadata": {},
   "outputs": [
    {
     "name": "stdout",
     "output_type": "stream",
     "text": [
      "บริษัท สันติภาพ (ฮั่วเพ้ง 1958) จำกัด00500000125343 [ศ3-8(1)-1/34ชม]ประเภทโรงงาน 8(1)ISIC 1030 TSIC 10302\n",
      "*-----------------------------------------------*\n",
      "88 ม.  5 ซ.กม.17ถ.เชียงใหม่-พร้าว ต.แม่แฝกใหม่อ.สันทราย จ.เชียงใหม่   50290โทร. 297984\n",
      "*-----------------------------------------------*\n",
      "บริษัท สันติภาพ (ฮั่วเพ้ง 1958) จำกัด37 ม.1 ซ.สุขสวีสดิ์ 43ถ.สุขสวัสดิ์ ต.บางครุอ.พระประแดง จ.สมุทรปราการ   10130โทร. 02-8193111\n",
      "*-----------------------------------------------*\n",
      "ผลิตผักและผลไม้บรรจุกระป๋องสำเร็จรูปเครื่องจักร  8,921.01 HPเงินทุน 197,500,000 บาทคนงาน 390 คน\n",
      "*-----------------------------------------------*\n"
     ]
    }
   ],
   "source": [
    "for tr in soup.find_all('tr')[1:2]:\n",
    "    tds = tr.find_all('td')\n",
    "    for i in tds:\n",
    "        print(i.text.replace('\\n','').replace('\\r','').replace('\\t','').strip())\n",
    "        print(\"*-----------------------------------------------*\")"
   ]
  },
  {
   "cell_type": "code",
   "execution_count": 169,
   "id": "congressional-heath",
   "metadata": {},
   "outputs": [],
   "source": [
    "tr=soup.find_all('tr')[1]\n",
    "td1=tr.find_all('td')[0]"
   ]
  },
  {
   "cell_type": "code",
   "execution_count": 170,
   "id": "funded-madrid",
   "metadata": {},
   "outputs": [],
   "source": [
    "td1_text=td1.text.replace('\\n','').replace('\\r','').replace('\\t','').strip()"
   ]
  },
  {
   "cell_type": "code",
   "execution_count": 171,
   "id": "stone-fisher",
   "metadata": {},
   "outputs": [],
   "source": [
    "facCodeStart=td1_text.find(facName)+len(facName)"
   ]
  },
  {
   "cell_type": "code",
   "execution_count": 172,
   "id": "future-details",
   "metadata": {},
   "outputs": [],
   "source": [
    "facCode=td1_text[facCodeStart:facCodeStart+14]"
   ]
  },
  {
   "cell_type": "code",
   "execution_count": 173,
   "id": "liquid-customs",
   "metadata": {},
   "outputs": [
    {
     "name": "stdout",
     "output_type": "stream",
     "text": [
      "00500000125343\n"
     ]
    }
   ],
   "source": [
    "print(facCode)"
   ]
  },
  {
   "cell_type": "code",
   "execution_count": 174,
   "id": "judicial-fitting",
   "metadata": {},
   "outputs": [],
   "source": [
    "window_before = driver.window_handles[0]\n",
    "#switch on to new child window\n",
    "driver.switch_to.window(window_before)"
   ]
  },
  {
   "cell_type": "markdown",
   "id": "under-violence",
   "metadata": {},
   "source": [
    "# Deploy area #"
   ]
  },
  {
   "cell_type": "code",
   "execution_count": 195,
   "id": "nervous-consortium",
   "metadata": {},
   "outputs": [
    {
     "data": {
      "text/html": [
       "<div>\n",
       "<style scoped>\n",
       "    .dataframe tbody tr th:only-of-type {\n",
       "        vertical-align: middle;\n",
       "    }\n",
       "\n",
       "    .dataframe tbody tr th {\n",
       "        vertical-align: top;\n",
       "    }\n",
       "\n",
       "    .dataframe thead th {\n",
       "        text-align: right;\n",
       "    }\n",
       "</style>\n",
       "<table border=\"1\" class=\"dataframe\">\n",
       "  <thead>\n",
       "    <tr style=\"text-align: right;\">\n",
       "      <th></th>\n",
       "      <th>ทะเบียนโรงงาน</th>\n",
       "      <th>ชื่อโรงงาน</th>\n",
       "    </tr>\n",
       "  </thead>\n",
       "  <tbody>\n",
       "    <tr>\n",
       "      <th>0</th>\n",
       "      <td>ศ3-20(1)-1/34ชม</td>\n",
       "      <td>บริษัท เชียงใหม่ เบเวอเรช จำกัด</td>\n",
       "    </tr>\n",
       "    <tr>\n",
       "      <th>1</th>\n",
       "      <td>ศ3-8(1)-4/36ชม</td>\n",
       "      <td>บริษัท สหปราจีนบุรีอุตสาหกรรมอาหาร จำกัด</td>\n",
       "    </tr>\n",
       "    <tr>\n",
       "      <th>2</th>\n",
       "      <td>ศ3-8(1)-2/36ชม</td>\n",
       "      <td>บริษัท ช้างอวอดส์ (1959) จำกัด</td>\n",
       "    </tr>\n",
       "    <tr>\n",
       "      <th>3</th>\n",
       "      <td>ศ3-8(1)-1/34ชม</td>\n",
       "      <td>บริษัท สันติภาพ (ฮั่วเพ้ง 1958) จำกัด</td>\n",
       "    </tr>\n",
       "    <tr>\n",
       "      <th>4</th>\n",
       "      <td>3-58(1)-119/50ชม</td>\n",
       "      <td>บริษัท ไดมอนด์ วัสดุ จำกัด</td>\n",
       "    </tr>\n",
       "  </tbody>\n",
       "</table>\n",
       "</div>"
      ],
      "text/plain": [
       "      ทะเบียนโรงงาน                                 ชื่อโรงงาน \n",
       "0    ศ3-20(1)-1/34ชม            บริษัท เชียงใหม่ เบเวอเรช จำกัด\n",
       "1    ศ3-8(1)-4/36ชม   บริษัท สหปราจีนบุรีอุตสาหกรรมอาหาร จำกัด \n",
       "2     ศ3-8(1)-2/36ชม            บริษัท ช้างอวอดส์ (1959) จำกัด \n",
       "3    ศ3-8(1)-1/34ชม      บริษัท สันติภาพ (ฮั่วเพ้ง 1958) จำกัด \n",
       "4  3-58(1)-119/50ชม                 บริษัท ไดมอนด์ วัสดุ จำกัด "
      ]
     },
     "execution_count": 195,
     "metadata": {},
     "output_type": "execute_result"
    }
   ],
   "source": [
    "df=pd.read_excel(\"facList.xlsx\")\n",
    "df=df.loc[:,['ทะเบียนโรงงาน ','ชื่อโรงงาน ']]\n",
    "df=df.loc[0:10,:]\n",
    "df.head()"
   ]
  },
  {
   "cell_type": "code",
   "execution_count": 198,
   "id": "legal-region",
   "metadata": {},
   "outputs": [],
   "source": [
    "# Open Chrome\n",
    "driver = webdriver.Chrome('chromedriver.exe')\n",
    "\n",
    "# Open URL\n",
    "driver.get('https://www.diw.go.th/hawk/content.php?mode=data1search')"
   ]
  },
  {
   "cell_type": "markdown",
   "id": "mounted-parent",
   "metadata": {},
   "source": [
    "## Start loop"
   ]
  },
  {
   "cell_type": "code",
   "execution_count": 199,
   "id": "brilliant-father",
   "metadata": {},
   "outputs": [
    {
     "name": "stdout",
     "output_type": "stream",
     "text": [
      "ทะเบียนโรงงานเก่า ศ3-20(1)-1/34ชม ชื่อโรงงาน บริษัท เชียงใหม่ เบเวอเรช จำกัด\n",
      "ทะเบียนโรงงานใหม่ 00500400125349 ประเภทโรงงาน 20(1) ISIC 1104 TSIC 11041\n",
      "--------------------------------------------\n",
      "ทะเบียนโรงงานเก่า ศ3-8(1)-4/36ชม  ชื่อโรงงาน บริษัท สหปราจีนบุรีอุตสาหกรรมอาหาร จำกัด \n",
      "ทะเบียนโรงงานใหม่ 00500000425362 ประเภทโรงงาน 8(1)I ISIC 1030 TSIC 10302\n",
      "--------------------------------------------\n",
      "ทะเบียนโรงงานเก่า ศ3-8(1)-2/36ชม ชื่อโรงงาน บริษัท ช้างอวอดส์ (1959) จำกัด \n",
      "ทะเบียนโรงงานใหม่ 00500000225366 ประเภทโรงงาน 8(1)I ISIC 1030 TSIC 10302\n",
      "--------------------------------------------\n",
      "ทะเบียนโรงงานเก่า ศ3-8(1)-1/34ชม  ชื่อโรงงาน บริษัท สันติภาพ (ฮั่วเพ้ง 1958) จำกัด \n",
      "ทะเบียนโรงงานใหม่ 00500000125343 ประเภทโรงงาน 8(1)I ISIC 1030 TSIC 10302\n",
      "--------------------------------------------\n",
      "ทะเบียนโรงงานเก่า 3-58(1)-119/50ชม  ชื่อโรงงาน บริษัท ไดมอนด์ วัสดุ จำกัด \n",
      "ทะเบียนโรงงานใหม่ 10500011925507 ประเภทโรงงาน 58(1) ISIC 2395 TSIC 23953\n",
      "--------------------------------------------\n",
      "ทะเบียนโรงงานเก่า ศ3-8(2)-2/33ชร  ชื่อโรงงาน บริษัท แพนสตาร์ จำกัด \n",
      "Cannot search data\n",
      "--------------------------------------------\n",
      "ทะเบียนโรงงานเก่า จ3-1-3/19ชร  ชื่อโรงงาน สถานีบ่มใบยาสูบปงของ\n",
      "ทะเบียนโรงงานใหม่ 20570000325199 ประเภทโรงงาน 1ISIC ISIC 1200 TSIC 12001\n",
      "--------------------------------------------\n",
      "ทะเบียนโรงงานเก่า ศ3-15(1)-2/38พบ  ชื่อโรงงาน บริษัท โกรเบสท์คอร์โพเรชั่น จำกัด \n",
      "ทะเบียนโรงงานใหม่ 00760000225382 ประเภทโรงงาน 15(1) ISIC 1080 TSIC 10801\n",
      "--------------------------------------------\n",
      "ทะเบียนโรงงานเก่า 3-44-1/40พบ  ชื่อโรงงาน บริษัท กังวาลโพลีเอสเตอร์ จำกัด \n",
      "ทะเบียนโรงงานใหม่ 10760200125406 ประเภทโรงงาน 44ISI ISIC 2013 TSIC 20131\n",
      "--------------------------------------------\n",
      "ทะเบียนโรงงานเก่า ศ3-15(1)-3/38พบ  ชื่อโรงงาน บริษัท ลีพัฒนาผลิตภัณฑ์ จำกัด (มหาชน) \n",
      "ทะเบียนโรงงานใหม่ 00760000325380 ประเภทโรงงาน 15(1) ISIC 1080 TSIC 10801\n",
      "--------------------------------------------\n",
      "ทะเบียนโรงงานเก่า 3-53(5)-56/48พบ  ชื่อโรงงาน บริษัท ไททัน โพลีเทค จำกัด \n",
      "ทะเบียนโรงงานใหม่ 10760005625485 ประเภทโรงงาน 53(5) ISIC 2223 TSIC 22230\n",
      "--------------------------------------------\n"
     ]
    }
   ],
   "source": [
    "for i in df.index:\n",
    "    print(f\"ทะเบียนโรงงานเก่า {df.iloc[i,0]} ชื่อโรงงาน {df.iloc[i,1]}\")\n",
    "    try :\n",
    "        facName=df.iloc[i,1].strip()\n",
    "        facCode=df.iloc[i,0].strip()\n",
    "        driver.find_element_by_name('code').clear()\n",
    "        driver.find_element_by_name('code').send_keys(facCode)\n",
    "        driver.find_element_by_name('Name').clear()\n",
    "        driver.find_element_by_name('Name').send_keys(facName)\n",
    "        driver.find_element_by_name('Submit').click()\n",
    "        window_after = driver.window_handles[1]\n",
    "        driver.switch_to.window(window_after)\n",
    "        soup = BeautifulSoup(driver.page_source,'html')\n",
    "        tr=soup.find_all('tr')[1]\n",
    "        td1=tr.find_all('td')[0]\n",
    "        td1_text=td1.text.replace('\\n','').replace('\\r','').replace('\\t','').strip()\n",
    "        facCodeStart=td1_text.find(facName)+len(facName)\n",
    "        facCode=td1_text[facCodeStart:facCodeStart+14]\n",
    "        facTypeStart=td1_text.find(\"ประเภทโรงงาน\")+len(\"ประเภทโรงงาน\")+1\n",
    "        facType=td1_text[facTypeStart:facTypeStart+5].strip()\n",
    "        facIsicStart=td1_text.find(\"ISIC\")+len(\"ISIC\")+1\n",
    "        facIsic=td1_text[facIsicStart:facIsicStart+4]\n",
    "        facTsicStart=td1_text.find(\"TSIC\")+len(\"ISIC\")+1\n",
    "        facTsic=td1_text[facTsicStart:facTsicStart+5] \n",
    "        print(f\"ทะเบียนโรงงานใหม่ {facCode} ประเภทโรงงาน {facType} ISIC {facIsic} TSIC {facTsic}\")\n",
    "    except :\n",
    "        print(\"Cannot search data\")\n",
    "        \n",
    "    print(\"--------------------------------------------\")\n",
    "    window_before = driver.window_handles[0]\n",
    "    driver.switch_to.window(window_before)    "
   ]
  },
  {
   "cell_type": "code",
   "execution_count": null,
   "id": "removable-container",
   "metadata": {},
   "outputs": [],
   "source": []
  }
 ],
 "metadata": {
  "kernelspec": {
   "display_name": "Python 3",
   "language": "python",
   "name": "python3"
  },
  "language_info": {
   "codemirror_mode": {
    "name": "ipython",
    "version": 3
   },
   "file_extension": ".py",
   "mimetype": "text/x-python",
   "name": "python",
   "nbconvert_exporter": "python",
   "pygments_lexer": "ipython3",
   "version": "3.8.7"
  }
 },
 "nbformat": 4,
 "nbformat_minor": 5
}
